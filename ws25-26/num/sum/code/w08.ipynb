{
 "cells": [
  {
   "cell_type": "markdown",
   "id": "6f2659d3",
   "metadata": {},
   "source": [
    "# Sarching"
   ]
  },
  {
   "cell_type": "code",
   "execution_count": 8,
   "id": "8e906c41",
   "metadata": {},
   "outputs": [],
   "source": [
    "def seq_search(a, key, key_function = lambda x: x):\n",
    "    for i in range(len(a)):\n",
    "        if key_function(a[i]) == key:\n",
    "            return i\n",
    "    return None"
   ]
  },
  {
   "cell_type": "code",
   "execution_count": 11,
   "id": "4a725cfe",
   "metadata": {},
   "outputs": [
    {
     "data": {
      "text/plain": [
       "1"
      ]
     },
     "execution_count": 11,
     "metadata": {},
     "output_type": "execute_result"
    }
   ],
   "source": [
    "(lambda x: x)(3)\n",
    "\n",
    "seq_search([1, 2, 4], 2)"
   ]
  },
  {
   "cell_type": "code",
   "execution_count": 31,
   "id": "67be069a",
   "metadata": {},
   "outputs": [
    {
     "name": "stdout",
     "output_type": "stream",
     "text": [
      "[-10, -3, 1, 2]\n",
      "3\n"
     ]
    }
   ],
   "source": [
    "def binary_search_impl(a, key, start, end):\n",
    "    size = end - start\n",
    "    if size == 0: return None\n",
    "    center = (start + end) // 2\n",
    "    if a[center] == key: return center\n",
    "    if a[center] < key: return binary_search_impl(a, key, center + 1, end)\n",
    "    return binary_search_impl(a, key, start, center)\n",
    "\n",
    "def binary_search(a, key):\n",
    "    return binary_search_impl(a, key, 0, len(a))\n",
    "\n",
    "a = [1, 2, -3, -10]\n",
    "a.sort()\n",
    "print(a)\n",
    "print(binary_search(a, 2))"
   ]
  },
  {
   "cell_type": "code",
   "execution_count": 54,
   "id": "481fb6a7",
   "metadata": {},
   "outputs": [
    {
     "name": "stdout",
     "output_type": "stream",
     "text": [
      "[-10, -3, 1, 2]\n",
      "1\n"
     ]
    }
   ],
   "source": [
    "def binary_search_it_impl(a, key, begin, end):\n",
    "    size = end - begin\n",
    "    center = (begin + end) // 2\n",
    "    # invariant: key possibly in a[begin : end]\n",
    "    while size != 0 :\n",
    "        if a[center] == key: return center\n",
    "        if key > a[center]: begin = center + 1\n",
    "        if key < a[center]: end = center\n",
    "        center = (begin + end) // 2\n",
    "        size = end - begin\n",
    "    # size == 0\n",
    "    return None \n",
    "\n",
    "def binary_search_it(a, key):\n",
    "    return binary_search_it_impl(a, key, 0, len(a))\n",
    "\n",
    "print(a)\n",
    "print(binary_search_it([3, 4], 4))"
   ]
  },
  {
   "cell_type": "code",
   "execution_count": 57,
   "id": "d2665622",
   "metadata": {},
   "outputs": [],
   "source": [
    "class Node:\n",
    "    def __init__(self, key, value = None):\n",
    "        self.key = key\n",
    "        self.value = value\n",
    "        self.left = self.right = None # a node is initially a leaf\n",
    "\n",
    "root = Node(\"R\")\n",
    "root.left = Node(\"A\")\n",
    "root.right = Node(\"B\")\n",
    "root.right.left = Node(\"C\")\n",
    "root.right.right = Node(\"D\")\n",
    "\n"
   ]
  }
 ],
 "metadata": {
  "kernelspec": {
   "display_name": "Python 3",
   "language": "python",
   "name": "python3"
  },
  "language_info": {
   "codemirror_mode": {
    "name": "ipython",
    "version": 3
   },
   "file_extension": ".py",
   "mimetype": "text/x-python",
   "name": "python",
   "nbconvert_exporter": "python",
   "pygments_lexer": "ipython3",
   "version": "3.10.12"
  }
 },
 "nbformat": 4,
 "nbformat_minor": 5
}
